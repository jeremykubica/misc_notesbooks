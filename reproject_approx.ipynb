{
 "cells": [
  {
   "cell_type": "code",
   "execution_count": 1,
   "id": "eecab91f-aa65-451e-8533-2d6a706518f4",
   "metadata": {},
   "outputs": [],
   "source": [
    "import matplotlib.pyplot as plt\n",
    "import numpy as np\n",
    "import timeit\n",
    "\n",
    "from astropy.time import Time\n",
    "from astropy import units as u\n",
    "from astropy.coordinates import SkyCoord, GCRS, ICRS, EarthLocation, solar_system_ephemeris, get_body_barycentric\n",
    "\n",
    "from kbmod.reprojection_utils import correct_parallax"
   ]
  },
  {
   "cell_type": "markdown",
   "id": "cdef6fce-77c7-4bdb-aa1f-fc9cd58d6822",
   "metadata": {},
   "source": [
    "Compute the intersection of a sphere centered at the barycenter (0, 0, 0) with radius D and a ray starting at a viewing point on Earth (ex, ey, ez) and pointing in direction (vx, vy, vz)."
   ]
  },
  {
   "cell_type": "code",
   "execution_count": 2,
   "id": "ffa1d5da-7114-40ed-a7a7-937e7eaa4a1f",
   "metadata": {},
   "outputs": [],
   "source": [
    "def correct_parallax2(coord, obstime, point_on_earth, heliocentric_distance):\n",
    "    \"\"\"Calculate the parallax corrected postions for a given object at a given time and distance from Earth.\n",
    "\n",
    "    Attributes\n",
    "    ----------\n",
    "    coord : `astropy.coordinate.SkyCoord`\n",
    "        The coordinate to be corrected for.\n",
    "    obstime : `astropy.time.Time` or `string`\n",
    "        The observation time.\n",
    "    point_on_earth : `astropy.coordinate.EarthLocation`\n",
    "        The location on Earth of the observation.\n",
    "    heliocentric_distance : `float`\n",
    "        The guess distance to the object from the Sun.\n",
    "\n",
    "    Returns\n",
    "    ----------\n",
    "    An `astropy.coordinate.SkyCoord` containing the ra and dec of the point in ICRS, and the best fit geocentric distance (float).\n",
    "\n",
    "    References\n",
    "    ----------\n",
    "    .. [1] `Jupyter Notebook <https://github.com/DinoBektesevic/region_search_example/blob/main/02_accounting_parallax.ipynb>`_\n",
    "    \"\"\"\n",
    "    # Compute the Earth location relative to the barycenter.\n",
    "    times = Time(obstime, format=\"mjd\")\n",
    "    \n",
    "    # Compute the Earth's location in to cartesian space centered the barycenter.\n",
    "    # This is an approximate position. Is it good enough?\n",
    "    earth_pos_cart = get_body_barycentric(\"earth\", times)\n",
    "    ex = earth_pos_cart.x.value\n",
    "    ey = earth_pos_cart.y.value\n",
    "    ez = earth_pos_cart.z.value\n",
    "\n",
    "    # Compute the unit vector of the pointing.\n",
    "    loc = (\n",
    "        point_on_earth.x.to(u.m).value,\n",
    "        point_on_earth.y.to(u.m).value,\n",
    "        point_on_earth.z.to(u.m).value,\n",
    "    ) * u.m\n",
    "    los_earth_obj = coord.transform_to(GCRS(obstime=obstime, obsgeoloc=loc))\n",
    "    pointings_cart = los_earth_obj.cartesian\n",
    "    vx = pointings_cart.x.value\n",
    "    vy = pointings_cart.y.value\n",
    "    vz = pointings_cart.z.value\n",
    "\n",
    "    # Solve the quadratic equation for the ray leaving the earth and intersecting\n",
    "    # a sphere around the sun (0, 0, 0) with radius = heliocentric_distance\n",
    "    a = vx * vx + vy * vy + vz * vz\n",
    "    b = 2 * vx * ex + 2 * vy * ey + + 2 * vz * ez\n",
    "    c = ex * ex + ey * ey + ez * ez - heliocentric_distance * heliocentric_distance\n",
    "    disc = b * b - 4 * a * c\n",
    "\n",
    "    if (disc < 0):\n",
    "        return None, -1.0\n",
    "    \n",
    "    # Since the ray will be starting from within the sphere (we assume the \n",
    "    # heliocentric_distance is at least 1 AU), one of the solutions should be positive\n",
    "    # and the other negative. We only use the positive one.\n",
    "    dist = (-b + np.sqrt(disc))/(2 * a)\n",
    "\n",
    "    answer = SkyCoord(\n",
    "        ra=coord.ra,\n",
    "        dec=coord.dec,\n",
    "        distance=dist * u.AU,\n",
    "        obstime=obstime,\n",
    "        obsgeoloc=loc,\n",
    "        frame=\"gcrs\",\n",
    "    ).transform_to(ICRS())\n",
    "\n",
    "    return answer, dist"
   ]
  },
  {
   "cell_type": "code",
   "execution_count": 3,
   "id": "d763c006-7ee5-4b79-a470-8f0fbde1d727",
   "metadata": {},
   "outputs": [],
   "source": [
    "icrs_ra1 = 88.74513571\n",
    "icrs_dec1 = 23.43426475\n",
    "icrs_time1 = Time(\"2023-03-20T16:00:00\", format=\"isot\", scale=\"utc\")\n",
    "\n",
    "icrs_ra2 = 91.24261107\n",
    "icrs_dec2 = 23.43437467\n",
    "icrs_time2 = Time(\"2023-09-24T04:00:00\", format=\"isot\", scale=\"utc\")\n",
    "\n",
    "sc1 = SkyCoord(ra=icrs_ra1, dec=icrs_dec1, unit=\"deg\")\n",
    "sc2 = SkyCoord(ra=icrs_ra2, dec=icrs_dec2, unit=\"deg\")\n",
    "\n",
    "with solar_system_ephemeris.set(\"de432s\"):\n",
    "    eq_loc = EarthLocation.of_site(\"ctio\")"
   ]
  },
  {
   "cell_type": "code",
   "execution_count": 4,
   "id": "9558468a-b58e-4f3a-abb4-7eaf6abc94dd",
   "metadata": {},
   "outputs": [
    {
     "name": "stdout",
     "output_type": "stream",
     "text": [
      "Current Approach\n",
      "Distance = 50.00135417530472\n",
      "<SkyCoord (ICRS): (ra, dec, distance) in (deg, deg, AU)\n",
      "    (90., 23.43952556, 49.99999999)>\n",
      "Approximate Approach\n",
      "Distance = 50.00131315305139\n",
      "<SkyCoord (ICRS): (ra, dec, distance) in (deg, deg, AU)\n",
      "    (89.99996581, 23.4395254, 49.99995841)>\n"
     ]
    }
   ],
   "source": [
    "# Compute the results.\n",
    "corrected_coord1, geo_dist1 = correct_parallax(\n",
    "    coord=sc1,\n",
    "    obstime=icrs_time1,\n",
    "    point_on_earth=eq_loc,\n",
    "    heliocentric_distance=50.0,\n",
    ")\n",
    "print(\"Current Approach\")\n",
    "print(f\"Distance = {geo_dist1}\")\n",
    "print(corrected_coord1)\n",
    "\n",
    "corrected_coord2, geo_dist2 = correct_parallax2(\n",
    "    coord=sc1,\n",
    "    obstime=icrs_time1,\n",
    "    point_on_earth=eq_loc,\n",
    "    heliocentric_distance=50.0,\n",
    ")\n",
    "print(\"Approximate Approach\")\n",
    "print(f\"Distance = {geo_dist2}\")\n",
    "print(corrected_coord2)"
   ]
  },
  {
   "cell_type": "code",
   "execution_count": 5,
   "id": "7efd7161-f994-4dab-92c6-79d3b8b2581a",
   "metadata": {},
   "outputs": [
    {
     "name": "stdout",
     "output_type": "stream",
     "text": [
      "94.1 ms ± 117 µs per loop (mean ± std. dev. of 7 runs, 10 loops each)\n"
     ]
    }
   ],
   "source": [
    "%%timeit\n",
    "corrected_coord1, geo_dist1 = correct_parallax(\n",
    "    coord=sc1,\n",
    "    obstime=icrs_time1,\n",
    "    point_on_earth=eq_loc,\n",
    "    heliocentric_distance=50.0,\n",
    ")"
   ]
  },
  {
   "cell_type": "code",
   "execution_count": 6,
   "id": "23ebf1a7-4804-400d-884a-237a376e5c75",
   "metadata": {},
   "outputs": [
    {
     "name": "stdout",
     "output_type": "stream",
     "text": [
      "3 ms ± 29.6 µs per loop (mean ± std. dev. of 7 runs, 100 loops each)\n"
     ]
    }
   ],
   "source": [
    "%%timeit\n",
    "corrected_coord2, geo_dist2 = correct_parallax2(\n",
    "    coord=sc1,\n",
    "    obstime=icrs_time1,\n",
    "    point_on_earth=eq_loc,\n",
    "    heliocentric_distance=50.0,\n",
    ")"
   ]
  },
  {
   "cell_type": "code",
   "execution_count": null,
   "id": "aabb8e50-216f-4d7f-af07-250ebc50417d",
   "metadata": {},
   "outputs": [],
   "source": []
  }
 ],
 "metadata": {
  "kernelspec": {
   "display_name": "Jeremy's KBMOD",
   "language": "python",
   "name": "kbmod_jk"
  },
  "language_info": {
   "codemirror_mode": {
    "name": "ipython",
    "version": 3
   },
   "file_extension": ".py",
   "mimetype": "text/x-python",
   "name": "python",
   "nbconvert_exporter": "python",
   "pygments_lexer": "ipython3",
   "version": "3.12.2"
  }
 },
 "nbformat": 4,
 "nbformat_minor": 5
}
